{
 "cells": [
  {
   "cell_type": "code",
   "execution_count": null,
   "metadata": {},
   "outputs": [],
   "source": [
    "from utils import *\n",
    "from pytorch_lrp import *"
   ]
  },
  {
   "cell_type": "code",
   "execution_count": null,
   "metadata": {},
   "outputs": [],
   "source": [
    "image_path = 'images/castle.jpg'\n",
    "# config = args.config\n",
    "# run(image_path, json.loads(config))\n",
    "\n",
    "target_class = 483   # 833 #728 #815 #340#  386 #340 #242  #483 # 919  #20 bird#\n",
    "classLRP =  'None'  # 'classLRP_clrp2'  #'None' #'classLRP_sglrp' #\n",
    "\n",
    "obj = {'method': 'lrp-0', # 'alpha-beta', #'gamma', #'z-beta',# ['alpha-beta'],\n",
    "        'theta0':0,  # issue if 1\n",
    "        'theta1':1,\n",
    "        'gamma0':0,\n",
    "        'gamma1':1,\n",
    "        'gamma1p':0, # if 0 only left postive part\n",
    "        'gamma1n':0,\n",
    "        'gamma2':0,\n",
    "        'eps':0.5,\n",
    "        'alpha':1,\n",
    "        'beta':0,\n",
    "        'positiveFilter':False,\n",
    "        'negativeFilter':False,\n",
    "        \"id\":1, \"x0\": 1, \"x1\": 39         \n",
    "}\n",
    "\n",
    "config = [obj]\n",
    "# config = [{\"id\":1, \"x0\": 1, \"x1\": 16, \"gamma\": 0.25, \"eps\": 0, \"alpha\": 0, \"beta\": 0, \"positiveFilter\": \"False\", \"method\": \"gamma\" }, \n",
    "# {\"id\":2, \"x0\": 17, \"x1\": 30, \"gamma\": 0, \"eps\": 0.25, \"alpha\": 0, \"beta\": 0, \"positiveFilter\": \"False\", \"method\": \"epsilon\" }, \n",
    "# {\"id\":3, \"x0\": 31, \"x1\": 39, \"gamma\": 0, \"eps\": 0, \"alpha\": 0, \"beta\": 0, \"positiveFilter\": \"False\", \"method\": \"0\" }]\n",
    "A, R, layers = run(image_path, config ,target_class ,classLRP)\n",
    "print(utils.imgclasses[target_class][:20])"
   ]
  },
  {
   "cell_type": "code",
   "execution_count": null,
   "metadata": {},
   "outputs": [],
   "source": [
    "def check_hasNegativeElem(Ls):\n",
    "    for l in range(0,len(Ls)):\n",
    "        if np.argwhere(Ls[l].data.numpy()<0).any():   \n",
    "            neg_list = np.argwhere(Ls[l].data.numpy()<0)\n",
    "            print(l,Ls[l].shape, neg_list)\n",
    "            numOfNode = Ls[l].shape[1]\n",
    "            print(\"numOfNode:\",numOfNode)\n",
    "            for i in range(numOfNode):\n",
    "\n",
    "                if np.argwhere(Ls[l][0][i].data.numpy()<0).any():\n",
    "                    print(\"----\"*20)\n",
    "\n",
    "                    print(l,i, np.sum(torch.clamp(Ls[l][0][i],min = 0).data.numpy()),\":\")\n",
    "                    heatmap(torch.clamp(Ls[l][0][i],min = 0),1.5,1.5)\n",
    "                    print(l,i, np.sum(torch.clamp(Ls[l][0][i],max = 0).data.numpy()),\":\")\n",
    "                    heatmap(torch.clamp(Ls[l][0][i],max = 0),1.5,1.5)\n",
    "                    print(l,i, np.sum(Ls[l][0][i].data.numpy()),\":\")\n",
    "                    heatmap(Ls[l][0][i],1.5,1.5)\n",
    "                else:\n",
    "                    print(Ls[l][0][i])\n",
    "                \n",
    "                \n",
    "  "
   ]
  },
  {
   "cell_type": "code",
   "execution_count": null,
   "metadata": {},
   "outputs": [],
   "source": [
    "check_hasNegativeElem(R)  "
   ]
  }
 ],
 "metadata": {
  "kernelspec": {
   "display_name": "Python 3",
   "language": "python",
   "name": "python3"
  },
  "language_info": {
   "codemirror_mode": {
    "name": "ipython",
    "version": 3
   },
   "file_extension": ".py",
   "mimetype": "text/x-python",
   "name": "python",
   "nbconvert_exporter": "python",
   "pygments_lexer": "ipython3",
   "version": "3.7.2"
  }
 },
 "nbformat": 4,
 "nbformat_minor": 4
}
